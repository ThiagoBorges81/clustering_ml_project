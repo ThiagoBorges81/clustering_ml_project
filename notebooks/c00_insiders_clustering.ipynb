{
 "cells": [
  {
   "cell_type": "markdown",
   "metadata": {},
   "source": [
    "# PA005: High Value Customer Identification (Insiders)"
   ]
  },
  {
   "cell_type": "markdown",
   "metadata": {},
   "source": [
    "# 0.0. Planning the solution"
   ]
  },
  {
   "cell_type": "markdown",
   "metadata": {},
   "source": [
    "## Input"
   ]
  },
  {
   "cell_type": "markdown",
   "metadata": {},
   "source": [
    "1. Business problem:  \n",
    "    * Select valuable clients to make up a loyalty program.  \n",
    "\n",
    "2. Data  \n",
    "    * E-commerce sales over a year period."
   ]
  },
  {
   "cell_type": "markdown",
   "metadata": {},
   "source": [
    "## Output"
   ]
  },
  {
   "cell_type": "markdown",
   "metadata": {},
   "source": [
    "1. Identify customers that will be part of a loyalty program: Insiders.  \n",
    "    - List: client_id | is_insider |  \n",
    "    \n",
    "            10323 | yes/l  \n",
    "            23413 | no/l  \n",
    "\n",
    "2. Relatório com as respostas das perguntas de negócio.  \n",
    "\n",
    "        1. Who are the eligible customers to be part of the program Insiders?  \n",
    "        2. How many clients will be part of the group?  \n",
    "        3. What are the main characteristics of these clients?  \n",
    "        4. What is the percentage contribution for the revenue coming from the Insiders?  \n",
    "        5. What is the revenue expectation for this group for the upcoing months?  \n",
    "        6. What are the elegibility conditions for a person to be part of the Insiders?  \n",
    "        7. What are the conditions for a person to be excluded from the Insiders?  \n",
    "        8. What guarantees the Insiders are better than the rest of the base?  \n",
    "        9. What actions the marketing team should make to increase revenue?"
   ]
  },
  {
   "cell_type": "markdown",
   "metadata": {},
   "source": [
    "## Tasks"
   ]
  },
  {
   "cell_type": "markdown",
   "metadata": {},
   "source": [
    "1. Who are the eligible customers to be part of the program Insiders?  \n",
    "    - What are eligible clients? What are high-valued clients?  \n",
    "    - Revenue:  \n",
    "        - High average ticket:  \n",
    "        - High LTV  \n",
    "        - Low recency  \n",
    "        - High basket size  \n",
    "        - Low CHURN probability  \n",
    "        - High LTV forecast\n",
    "        - High purchase propensity\n",
    "\n",
    "\n",
    "    - Cost:  \n",
    "        - Low return ratio  \n",
    "\n",
    "    - Purchase experience:  \n",
    "        - High mean evaluation  \n",
    "        \n",
    "\n",
    "2. How many clients will be part of the group?  \n",
    "    - Total number of clients  \n",
    "    - % from the Insiders group  \n",
    "\n",
    "\n",
    "3. What are the main characteristics of these clients?  \n",
    "    - What are the characteristics of the clients?  \n",
    "        - Age  \n",
    "        - Location\n",
    "\n",
    "    - What are the purchasing characteristics  \n",
    "        - Clustering atributes  \n",
    "\n",
    "4. What is the percentage contribution for the revenue coming from the Insiders?  \n",
    "    - Yearly revenue  \n",
    "    - Insiders revenue  \n",
    "\n",
    "5. What is the revenue expectation for this group for the upcoing months?  \n",
    "    - LTV from Insiders group  \n",
    "    - Cohort analysis  \n",
    "\n",
    "6. What are the elegibility conditions for a person to be part of the Insiders?  \n",
    "    - Determine the periodicity ( 1 month, 3 months)  \n",
    "    - A person must be similar to those people of the group  \n",
    "    \n",
    "\n",
    "7. What are the conditions for a person to be excluded from the Insiders?  \n",
    "    - Determine the periodicity ( 1 month, 3 months)  \n",
    "    - The person must be dissimilar to a person of the group  \n",
    "\n",
    "8. What guarantees the Insiders are better than the rest of the base?  \n",
    "    - A/B test  \n",
    "    - Bayesian A/B test  \n",
    "    - Hypothesis test  \n",
    "\n",
    "9. What actions the marketing team should make to increase revenue?  \n",
    "    - Discount  \n",
    "    - Purchasing preference  \n",
    "    - Front  \n",
    "    - Company visiting  \n",
    "\n"
   ]
  },
  {
   "cell_type": "markdown",
   "metadata": {},
   "source": [
    "## Solution Benchmarks"
   ]
  },
  {
   "cell_type": "markdown",
   "metadata": {},
   "source": [
    "### 1. Desk research  \n",
    "\n",
    "* Involves research how other people are solving a similar problem.  \n"
   ]
  },
  {
   "cell_type": "markdown",
   "metadata": {},
   "source": [
    "**RFM Model**  \n",
    "\n",
    "1. Recency  \n",
    "    a. Time since last purchase  \n",
    "    b. Responsivity  \n",
    "\n",
    "2. Frequency  \n",
    "    a. Mean time between transactions  \n",
    "    b. Engajing  \n",
    "\n",
    "3. Monetary  \n",
    "    a. Total spent, revenue  \n",
    "    b. 'High-value purchases'  \n"
   ]
  },
  {
   "cell_type": "markdown",
   "metadata": {},
   "source": [
    "**Recency score**  \n",
    "1. Step 1:  \n",
    "    a. Order clients by recency\n",
    "\n",
    "2. Step 2:  \n",
    "    a. Divide the client based on their score  \n",
    "        i. Scores from 1 to 5  \n",
    "        ii. 5 groups of 20%  \n",
    "\n",
    "3. Step 3:  \n",
    "    a. Order clients by frequency  \n",
    "\n",
    "4. Step 4:  \n",
    "    a. Rate the scores  \n",
    "\n",
    "5. Step 5:  \n",
    "    a. Order clients by monetary  \n",
    "\n",
    "6. Step 6:  \n",
    "    a. Rate the scores \n",
    "\n",
    "7. Step 7:  \n",
    "    a. Calculate teh average scores for recency, frequency, and monetary    \n",
    "\n",
    "8. Step 8:  \n",
    "    a. Rate the scores \n",
    "\n"
   ]
  },
  {
   "cell_type": "markdown",
   "metadata": {},
   "source": [
    "![](../images/rfm_model.png)"
   ]
  }
 ],
 "metadata": {
  "kernelspec": {
   "display_name": "pa005",
   "language": "python",
   "name": "python3"
  },
  "language_info": {
   "codemirror_mode": {
    "name": "ipython",
    "version": 3
   },
   "file_extension": ".py",
   "mimetype": "text/x-python",
   "name": "python",
   "nbconvert_exporter": "python",
   "pygments_lexer": "ipython3",
   "version": "3.10.4"
  }
 },
 "nbformat": 4,
 "nbformat_minor": 2
}
